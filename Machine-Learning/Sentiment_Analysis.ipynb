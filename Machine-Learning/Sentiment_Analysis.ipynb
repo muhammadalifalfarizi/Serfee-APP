{
  "cells": [
    {
      "cell_type": "markdown",
      "source": [
        "# Sentiment Analysis Model\n",
        "\n",
        "Link for Dataset https://autonlp.ai/datasets-list/sentiment-analysis-task"
      ],
      "metadata": {
        "id": "Pz4_IWjwpYNT"
      }
    },
    {
      "cell_type": "markdown",
      "source": [
        "## Importing necessary libraries\n",
        "\n"
      ],
      "metadata": {
        "id": "SqE9tt7tXvvk"
      }
    },
    {
      "cell_type": "code",
      "execution_count": null,
      "metadata": {
        "id": "Uch14TBLDgYQ"
      },
      "outputs": [],
      "source": [
        "import re  \n",
        "import gensim  \n",
        "import numpy as np  \n",
        "import pandas as pd  \n",
        "import tensorflow as tf \n",
        "import matplotlib.pyplot as plt  \n",
        "\n",
        "from tensorflow import keras  \n",
        "from keras import layers \n",
        "from keras.models import Sequential \n",
        "from keras.utils import pad_sequences \n",
        "from keras.callbacks import ModelCheckpoint  \n",
        "from keras.preprocessing.text import Tokenizer  \n",
        "from sklearn.metrics import confusion_matrix  \n",
        "from sklearn.model_selection import train_test_split  \n",
        "from nltk.tokenize.treebank import TreebankWordDetokenizer  \n",
        "\n"
      ]
    },
    {
      "cell_type": "markdown",
      "metadata": {
        "id": "reDw5qDjDgYc"
      },
      "source": [
        "## Reading the data from a TSV file"
      ]
    },
    {
      "cell_type": "code",
      "execution_count": null,
      "metadata": {
        "id": "Vi17WmjZDgYg",
        "outputId": "e31a059a-a65c-4e12-bba9-0233871b329a",
        "colab": {
          "base_uri": "https://localhost:8080/",
          "height": 363
        }
      },
      "outputs": [
        {
          "output_type": "execute_result",
          "data": {
            "text/plain": [
              "0                                                text     value\n",
              "1   lokasi strategis di jalan sumatera bandung . t...  positive\n",
              "2   betapa bahagia nya diri ini saat unboxing pake...  positive\n",
              "3   duh . jadi mahasiswa jangan sombong dong . kas...  negative\n",
              "4   makanan beragam , harga makanan di food stall ...  positive\n",
              "5   pakai kartu kredit bca tidak untung malah rugi...  negative\n",
              "6   tempat unik , bagus buat foto , makanan enak ,...  positive\n",
              "7   saya bersama keluarga baru saja menikmati peng...  positive\n",
              "8                                           bersyukur  positive\n",
              "9   simcard indosat inaktiv gara-gara lupa isi pul...  negative\n",
              "10  sifat iri sering muncul pada orang orang yang ...  negative"
            ],
            "text/html": [
              "\n",
              "  <div id=\"df-c97a1fb1-12d8-45a3-9985-43f9962fb33c\">\n",
              "    <div class=\"colab-df-container\">\n",
              "      <div>\n",
              "<style scoped>\n",
              "    .dataframe tbody tr th:only-of-type {\n",
              "        vertical-align: middle;\n",
              "    }\n",
              "\n",
              "    .dataframe tbody tr th {\n",
              "        vertical-align: top;\n",
              "    }\n",
              "\n",
              "    .dataframe thead th {\n",
              "        text-align: right;\n",
              "    }\n",
              "</style>\n",
              "<table border=\"1\" class=\"dataframe\">\n",
              "  <thead>\n",
              "    <tr style=\"text-align: right;\">\n",
              "      <th></th>\n",
              "      <th>text</th>\n",
              "      <th>value</th>\n",
              "    </tr>\n",
              "  </thead>\n",
              "  <tbody>\n",
              "    <tr>\n",
              "      <th>1</th>\n",
              "      <td>lokasi strategis di jalan sumatera bandung . t...</td>\n",
              "      <td>positive</td>\n",
              "    </tr>\n",
              "    <tr>\n",
              "      <th>2</th>\n",
              "      <td>betapa bahagia nya diri ini saat unboxing pake...</td>\n",
              "      <td>positive</td>\n",
              "    </tr>\n",
              "    <tr>\n",
              "      <th>3</th>\n",
              "      <td>duh . jadi mahasiswa jangan sombong dong . kas...</td>\n",
              "      <td>negative</td>\n",
              "    </tr>\n",
              "    <tr>\n",
              "      <th>4</th>\n",
              "      <td>makanan beragam , harga makanan di food stall ...</td>\n",
              "      <td>positive</td>\n",
              "    </tr>\n",
              "    <tr>\n",
              "      <th>5</th>\n",
              "      <td>pakai kartu kredit bca tidak untung malah rugi...</td>\n",
              "      <td>negative</td>\n",
              "    </tr>\n",
              "    <tr>\n",
              "      <th>6</th>\n",
              "      <td>tempat unik , bagus buat foto , makanan enak ,...</td>\n",
              "      <td>positive</td>\n",
              "    </tr>\n",
              "    <tr>\n",
              "      <th>7</th>\n",
              "      <td>saya bersama keluarga baru saja menikmati peng...</td>\n",
              "      <td>positive</td>\n",
              "    </tr>\n",
              "    <tr>\n",
              "      <th>8</th>\n",
              "      <td>bersyukur</td>\n",
              "      <td>positive</td>\n",
              "    </tr>\n",
              "    <tr>\n",
              "      <th>9</th>\n",
              "      <td>simcard indosat inaktiv gara-gara lupa isi pul...</td>\n",
              "      <td>negative</td>\n",
              "    </tr>\n",
              "    <tr>\n",
              "      <th>10</th>\n",
              "      <td>sifat iri sering muncul pada orang orang yang ...</td>\n",
              "      <td>negative</td>\n",
              "    </tr>\n",
              "  </tbody>\n",
              "</table>\n",
              "</div>\n",
              "      <button class=\"colab-df-convert\" onclick=\"convertToInteractive('df-c97a1fb1-12d8-45a3-9985-43f9962fb33c')\"\n",
              "              title=\"Convert this dataframe to an interactive table.\"\n",
              "              style=\"display:none;\">\n",
              "        \n",
              "  <svg xmlns=\"http://www.w3.org/2000/svg\" height=\"24px\"viewBox=\"0 0 24 24\"\n",
              "       width=\"24px\">\n",
              "    <path d=\"M0 0h24v24H0V0z\" fill=\"none\"/>\n",
              "    <path d=\"M18.56 5.44l.94 2.06.94-2.06 2.06-.94-2.06-.94-.94-2.06-.94 2.06-2.06.94zm-11 1L8.5 8.5l.94-2.06 2.06-.94-2.06-.94L8.5 2.5l-.94 2.06-2.06.94zm10 10l.94 2.06.94-2.06 2.06-.94-2.06-.94-.94-2.06-.94 2.06-2.06.94z\"/><path d=\"M17.41 7.96l-1.37-1.37c-.4-.4-.92-.59-1.43-.59-.52 0-1.04.2-1.43.59L10.3 9.45l-7.72 7.72c-.78.78-.78 2.05 0 2.83L4 21.41c.39.39.9.59 1.41.59.51 0 1.02-.2 1.41-.59l7.78-7.78 2.81-2.81c.8-.78.8-2.07 0-2.86zM5.41 20L4 18.59l7.72-7.72 1.47 1.35L5.41 20z\"/>\n",
              "  </svg>\n",
              "      </button>\n",
              "      \n",
              "  <style>\n",
              "    .colab-df-container {\n",
              "      display:flex;\n",
              "      flex-wrap:wrap;\n",
              "      gap: 12px;\n",
              "    }\n",
              "\n",
              "    .colab-df-convert {\n",
              "      background-color: #E8F0FE;\n",
              "      border: none;\n",
              "      border-radius: 50%;\n",
              "      cursor: pointer;\n",
              "      display: none;\n",
              "      fill: #1967D2;\n",
              "      height: 32px;\n",
              "      padding: 0 0 0 0;\n",
              "      width: 32px;\n",
              "    }\n",
              "\n",
              "    .colab-df-convert:hover {\n",
              "      background-color: #E2EBFA;\n",
              "      box-shadow: 0px 1px 2px rgba(60, 64, 67, 0.3), 0px 1px 3px 1px rgba(60, 64, 67, 0.15);\n",
              "      fill: #174EA6;\n",
              "    }\n",
              "\n",
              "    [theme=dark] .colab-df-convert {\n",
              "      background-color: #3B4455;\n",
              "      fill: #D2E3FC;\n",
              "    }\n",
              "\n",
              "    [theme=dark] .colab-df-convert:hover {\n",
              "      background-color: #434B5C;\n",
              "      box-shadow: 0px 1px 3px 1px rgba(0, 0, 0, 0.15);\n",
              "      filter: drop-shadow(0px 1px 2px rgba(0, 0, 0, 0.3));\n",
              "      fill: #FFFFFF;\n",
              "    }\n",
              "  </style>\n",
              "\n",
              "      <script>\n",
              "        const buttonEl =\n",
              "          document.querySelector('#df-c97a1fb1-12d8-45a3-9985-43f9962fb33c button.colab-df-convert');\n",
              "        buttonEl.style.display =\n",
              "          google.colab.kernel.accessAllowed ? 'block' : 'none';\n",
              "\n",
              "        async function convertToInteractive(key) {\n",
              "          const element = document.querySelector('#df-c97a1fb1-12d8-45a3-9985-43f9962fb33c');\n",
              "          const dataTable =\n",
              "            await google.colab.kernel.invokeFunction('convertToInteractive',\n",
              "                                                     [key], {});\n",
              "          if (!dataTable) return;\n",
              "\n",
              "          const docLinkHtml = 'Like what you see? Visit the ' +\n",
              "            '<a target=\"_blank\" href=https://colab.research.google.com/notebooks/data_table.ipynb>data table notebook</a>'\n",
              "            + ' to learn more about interactive tables.';\n",
              "          element.innerHTML = '';\n",
              "          dataTable['output_type'] = 'display_data';\n",
              "          await google.colab.output.renderOutput(dataTable, element);\n",
              "          const docLink = document.createElement('div');\n",
              "          docLink.innerHTML = docLinkHtml;\n",
              "          element.appendChild(docLink);\n",
              "        }\n",
              "      </script>\n",
              "    </div>\n",
              "  </div>\n",
              "  "
            ]
          },
          "metadata": {},
          "execution_count": 5
        }
      ],
      "source": [
        "data = pd.read_csv('smsa_train.tsv',sep='\\t')\n",
        "df = pd.DataFrame(data)\n",
        "df.iloc[0] = ['text', 'value']  # Renaming column headers\n",
        "df.columns = df.iloc[0]  # Assigning column headers\n",
        "df = df[1:]  # Removing the first row (redundant column headers)\n",
        "df.head(10)  # Displaying the first 10 rows of the dataframe"
      ]
    },
    {
      "cell_type": "code",
      "execution_count": null,
      "metadata": {
        "id": "6OB1zLKnDgYk",
        "outputId": "f489a2df-dcab-4374-e71f-5c53d072de4e",
        "colab": {
          "base_uri": "https://localhost:8080/",
          "height": 175
        }
      },
      "outputs": [
        {
          "output_type": "execute_result",
          "data": {
            "text/plain": [
              "0         text\n",
              "value         \n",
              "negative  3412\n",
              "neutral   1137\n",
              "positive  6382"
            ],
            "text/html": [
              "\n",
              "  <div id=\"df-2dfe849b-b57c-4ae7-82bd-af7a29e4a240\">\n",
              "    <div class=\"colab-df-container\">\n",
              "      <div>\n",
              "<style scoped>\n",
              "    .dataframe tbody tr th:only-of-type {\n",
              "        vertical-align: middle;\n",
              "    }\n",
              "\n",
              "    .dataframe tbody tr th {\n",
              "        vertical-align: top;\n",
              "    }\n",
              "\n",
              "    .dataframe thead th {\n",
              "        text-align: right;\n",
              "    }\n",
              "</style>\n",
              "<table border=\"1\" class=\"dataframe\">\n",
              "  <thead>\n",
              "    <tr style=\"text-align: right;\">\n",
              "      <th></th>\n",
              "      <th>text</th>\n",
              "    </tr>\n",
              "    <tr>\n",
              "      <th>value</th>\n",
              "      <th></th>\n",
              "    </tr>\n",
              "  </thead>\n",
              "  <tbody>\n",
              "    <tr>\n",
              "      <th>negative</th>\n",
              "      <td>3412</td>\n",
              "    </tr>\n",
              "    <tr>\n",
              "      <th>neutral</th>\n",
              "      <td>1137</td>\n",
              "    </tr>\n",
              "    <tr>\n",
              "      <th>positive</th>\n",
              "      <td>6382</td>\n",
              "    </tr>\n",
              "  </tbody>\n",
              "</table>\n",
              "</div>\n",
              "      <button class=\"colab-df-convert\" onclick=\"convertToInteractive('df-2dfe849b-b57c-4ae7-82bd-af7a29e4a240')\"\n",
              "              title=\"Convert this dataframe to an interactive table.\"\n",
              "              style=\"display:none;\">\n",
              "        \n",
              "  <svg xmlns=\"http://www.w3.org/2000/svg\" height=\"24px\"viewBox=\"0 0 24 24\"\n",
              "       width=\"24px\">\n",
              "    <path d=\"M0 0h24v24H0V0z\" fill=\"none\"/>\n",
              "    <path d=\"M18.56 5.44l.94 2.06.94-2.06 2.06-.94-2.06-.94-.94-2.06-.94 2.06-2.06.94zm-11 1L8.5 8.5l.94-2.06 2.06-.94-2.06-.94L8.5 2.5l-.94 2.06-2.06.94zm10 10l.94 2.06.94-2.06 2.06-.94-2.06-.94-.94-2.06-.94 2.06-2.06.94z\"/><path d=\"M17.41 7.96l-1.37-1.37c-.4-.4-.92-.59-1.43-.59-.52 0-1.04.2-1.43.59L10.3 9.45l-7.72 7.72c-.78.78-.78 2.05 0 2.83L4 21.41c.39.39.9.59 1.41.59.51 0 1.02-.2 1.41-.59l7.78-7.78 2.81-2.81c.8-.78.8-2.07 0-2.86zM5.41 20L4 18.59l7.72-7.72 1.47 1.35L5.41 20z\"/>\n",
              "  </svg>\n",
              "      </button>\n",
              "      \n",
              "  <style>\n",
              "    .colab-df-container {\n",
              "      display:flex;\n",
              "      flex-wrap:wrap;\n",
              "      gap: 12px;\n",
              "    }\n",
              "\n",
              "    .colab-df-convert {\n",
              "      background-color: #E8F0FE;\n",
              "      border: none;\n",
              "      border-radius: 50%;\n",
              "      cursor: pointer;\n",
              "      display: none;\n",
              "      fill: #1967D2;\n",
              "      height: 32px;\n",
              "      padding: 0 0 0 0;\n",
              "      width: 32px;\n",
              "    }\n",
              "\n",
              "    .colab-df-convert:hover {\n",
              "      background-color: #E2EBFA;\n",
              "      box-shadow: 0px 1px 2px rgba(60, 64, 67, 0.3), 0px 1px 3px 1px rgba(60, 64, 67, 0.15);\n",
              "      fill: #174EA6;\n",
              "    }\n",
              "\n",
              "    [theme=dark] .colab-df-convert {\n",
              "      background-color: #3B4455;\n",
              "      fill: #D2E3FC;\n",
              "    }\n",
              "\n",
              "    [theme=dark] .colab-df-convert:hover {\n",
              "      background-color: #434B5C;\n",
              "      box-shadow: 0px 1px 3px 1px rgba(0, 0, 0, 0.15);\n",
              "      filter: drop-shadow(0px 1px 2px rgba(0, 0, 0, 0.3));\n",
              "      fill: #FFFFFF;\n",
              "    }\n",
              "  </style>\n",
              "\n",
              "      <script>\n",
              "        const buttonEl =\n",
              "          document.querySelector('#df-2dfe849b-b57c-4ae7-82bd-af7a29e4a240 button.colab-df-convert');\n",
              "        buttonEl.style.display =\n",
              "          google.colab.kernel.accessAllowed ? 'block' : 'none';\n",
              "\n",
              "        async function convertToInteractive(key) {\n",
              "          const element = document.querySelector('#df-2dfe849b-b57c-4ae7-82bd-af7a29e4a240');\n",
              "          const dataTable =\n",
              "            await google.colab.kernel.invokeFunction('convertToInteractive',\n",
              "                                                     [key], {});\n",
              "          if (!dataTable) return;\n",
              "\n",
              "          const docLinkHtml = 'Like what you see? Visit the ' +\n",
              "            '<a target=\"_blank\" href=https://colab.research.google.com/notebooks/data_table.ipynb>data table notebook</a>'\n",
              "            + ' to learn more about interactive tables.';\n",
              "          element.innerHTML = '';\n",
              "          dataTable['output_type'] = 'display_data';\n",
              "          await google.colab.output.renderOutput(dataTable, element);\n",
              "          const docLink = document.createElement('div');\n",
              "          docLink.innerHTML = docLinkHtml;\n",
              "          element.appendChild(docLink);\n",
              "        }\n",
              "      </script>\n",
              "    </div>\n",
              "  </div>\n",
              "  "
            ]
          },
          "metadata": {},
          "execution_count": 6
        }
      ],
      "source": [
        "df.groupby('value').nunique() # Grouping data by 'value' and finding unique counts"
      ]
    },
    {
      "cell_type": "code",
      "execution_count": null,
      "metadata": {
        "id": "yMLasXaUDgYl",
        "outputId": "72ceee32-98e5-4080-dee8-d21d6da6afd2",
        "colab": {
          "base_uri": "https://localhost:8080/"
        }
      },
      "outputs": [
        {
          "output_type": "execute_result",
          "data": {
            "text/plain": [
              "0"
            ]
          },
          "metadata": {},
          "execution_count": 7
        }
      ],
      "source": [
        "  # Checking for any null values in the 'text' column"
      ]
    },
    {
      "cell_type": "markdown",
      "source": [
        "## Data Cleaning"
      ],
      "metadata": {
        "id": "hBie618MYvNL"
      }
    },
    {
      "cell_type": "code",
      "execution_count": null,
      "metadata": {
        "id": "Cj5ojIW0DgYn"
      },
      "outputs": [],
      "source": [
        "# Function for data cleaning\n",
        "def depure_data(data):\n",
        "\n",
        "    #Removing URLs with a regular expression\n",
        "    url_pattern = re.compile(r'https?://\\S+|www\\.\\S+')\n",
        "    data = url_pattern.sub(r'', data)\n",
        "\n",
        "    # Remove Emails\n",
        "    data = re.sub('\\S*@\\S*\\s?', '', data)\n",
        "\n",
        "    # Remove new line characters\n",
        "    data = re.sub('\\s+', ' ', data)\n",
        "\n",
        "    # Remove distracting single quotes\n",
        "    data = re.sub(\"\\'\", \"\", data)\n",
        "        \n",
        "    return data"
      ]
    },
    {
      "cell_type": "code",
      "execution_count": null,
      "metadata": {
        "id": "XDFPtcS4DgYo",
        "outputId": "d91954e3-e46f-4dc2-8163-011d2ab4712d",
        "colab": {
          "base_uri": "https://localhost:8080/"
        }
      },
      "outputs": [
        {
          "output_type": "execute_result",
          "data": {
            "text/plain": [
              "['lokasi strategis di jalan sumatera bandung . tempat nya nyaman terutama sofa di lantai 2 . paella nya enak , sangat pas dimakan dengan minum bir dingin . appetiser nya juga enak-enak .',\n",
              " 'betapa bahagia nya diri ini saat unboxing paket dan barang nya bagus ! menetapkan beli lagi !',\n",
              " 'duh . jadi mahasiswa jangan sombong dong . kasih kartu kuning segala . belajar dulu yang baik , tidak usahlah ikut-ikut politik . nanti sudah selesai kuliah nya mau ikut politik juga tidak telat . dasar mahasiswa .',\n",
              " 'makanan beragam , harga makanan di food stall akan ditambahkan 10 % lagi di kasir , suasana ramai dan perlu perhatian untuk mendapatkan parkir dan tempat duduk .',\n",
              " 'pakai kartu kredit bca tidak untung malah rugi besar']"
            ]
          },
          "metadata": {},
          "execution_count": 9
        }
      ],
      "source": [
        "temp = []\n",
        "# Convert pd.Series to list\n",
        "data_to_list = df['text'].values.tolist()\n",
        "\n",
        "# Iterate over each text sample and apply data cleaning\n",
        "for i in range(len(data_to_list)):\n",
        "    temp.append(depure_data(data_to_list[i]))\n",
        "list(temp[:5])"
      ]
    },
    {
      "cell_type": "markdown",
      "source": [
        "## Text Preprocessing"
      ],
      "metadata": {
        "id": "NULOOKn8azk4"
      }
    },
    {
      "cell_type": "code",
      "execution_count": null,
      "metadata": {
        "id": "HHZmOTCPDgYq",
        "outputId": "afc615b8-8ad9-4185-9c35-ea187f18706d",
        "colab": {
          "base_uri": "https://localhost:8080/"
        }
      },
      "outputs": [
        {
          "output_type": "stream",
          "name": "stdout",
          "text": [
            "[['lokasi', 'strategis', 'di', 'jalan', 'sumatera', 'bandung', 'tempat', 'nya', 'nyaman', 'terutama', 'sofa', 'di', 'lantai', 'paella', 'nya', 'enak', 'sangat', 'pas', 'dimakan', 'dengan', 'minum', 'bir', 'dingin', 'appetiser', 'nya', 'juga', 'enak', 'enak'], ['betapa', 'bahagia', 'nya', 'diri', 'ini', 'saat', 'unboxing', 'paket', 'dan', 'barang', 'nya', 'bagus', 'menetapkan', 'beli', 'lagi'], ['duh', 'jadi', 'mahasiswa', 'jangan', 'sombong', 'dong', 'kasih', 'kartu', 'kuning', 'segala', 'belajar', 'dulu', 'yang', 'baik', 'tidak', 'usahlah', 'ikut', 'ikut', 'politik', 'nanti', 'sudah', 'selesai', 'kuliah', 'nya', 'mau', 'ikut', 'politik', 'juga', 'tidak', 'telat', 'dasar', 'mahasiswa'], ['makanan', 'beragam', 'harga', 'makanan', 'di', 'food', 'stall', 'akan', 'ditambahkan', 'lagi', 'di', 'kasir', 'suasana', 'ramai', 'dan', 'perlu', 'perhatian', 'untuk', 'mendapatkan', 'parkir', 'dan', 'tempat', 'duduk'], ['pakai', 'kartu', 'kredit', 'bca', 'tidak', 'untung', 'malah', 'rugi', 'besar'], ['tempat', 'unik', 'bagus', 'buat', 'foto', 'makanan', 'enak', 'pegawai', 'ramah', 'bersih', 'dan', 'luas', 'wifi', 'kencang', 'harga', 'standar', 'dan', 'sesuai', 'dengan', 'tempat', 'nya', 'ada', 'menu', 'masakan', 'makanan', 'barat', 'dan', 'indonesia', 'menu', 'favorit', 'lychee', 'mojito', 'dan', 'spagheti'], ['saya', 'bersama', 'keluarga', 'baru', 'saja', 'menikmati', 'pengalaman', 'kuliner', 'yang', 'menyenangkan', 'di', 'rm', 'sari', 'sunda', 'di', 'jalan', 'setiabudhi', 'bandung', 'tapi', 'karena', 'tidak', 'ada', 'hubungan', 'untuk', 'rm', 'sari', 'sunda', 'di', 'jalan', 'setiabudhi', 'maka', 'saya', 'tuliskan', 'di', 'sini', 'jadi', 'maaf', 'jika', 'rekan', 'rekan', 'pembaca', 'ada', 'yang', 'bingung', 'beberapa', 'hal', 'yang', 'saya', 'suka', 'dari', 'restoran', 'ini', 'adalah', 'bahwa', 'pelayanan', 'restoran', 'ini', 'terbilang', 'cepat'], ['bersyukur'], ['simcard', 'indosat', 'inaktiv', 'gara', 'gara', 'lupa', 'isi', 'pulsa', 'dan', 'kabar', 'nya', 'aktif', 'jika', 'pinda', 'ke', 'pasca', 'bayar', 'ribet', 'banget'], ['sifat', 'iri', 'sering', 'muncul', 'pada', 'orang', 'orang', 'yang', 'tidak', 'punya', 'tujuan', 'hidup']]\n"
          ]
        }
      ],
      "source": [
        "# Function for converting sentences to words\n",
        "def sent_to_words(sentences):\n",
        "    for sentence in sentences:\n",
        "        yield(gensim.utils.simple_preprocess(str(sentence), deacc=True))  # deacc=True removes punctuations\n",
        "        \n",
        "\n",
        "data_words = list(sent_to_words(temp))\n",
        "print(data_words[:10])"
      ]
    },
    {
      "cell_type": "markdown",
      "source": [
        "## Text Detokenization"
      ],
      "metadata": {
        "id": "mQMyvUAHa-rW"
      }
    },
    {
      "cell_type": "code",
      "execution_count": null,
      "metadata": {
        "id": "eni2NTVLDgYs"
      },
      "outputs": [],
      "source": [
        "# Function for detokenizing text\n",
        "def detokenize(text):\n",
        "    return TreebankWordDetokenizer().detokenize(text)"
      ]
    },
    {
      "cell_type": "code",
      "execution_count": null,
      "metadata": {
        "id": "57nEybFKDgYt",
        "outputId": "2d33a061-cd10-4a1a-c32b-7e36a25236e1",
        "colab": {
          "base_uri": "https://localhost:8080/"
        }
      },
      "outputs": [
        {
          "output_type": "stream",
          "name": "stdout",
          "text": [
            "['lokasi strategis di jalan sumatera bandung tempat nya nyaman terutama sofa di lantai paella nya enak sangat pas dimakan dengan minum bir dingin appetiser nya juga enak enak', 'betapa bahagia nya diri ini saat unboxing paket dan barang nya bagus menetapkan beli lagi', 'duh jadi mahasiswa jangan sombong dong kasih kartu kuning segala belajar dulu yang baik tidak usahlah ikut ikut politik nanti sudah selesai kuliah nya mau ikut politik juga tidak telat dasar mahasiswa', 'makanan beragam harga makanan di food stall akan ditambahkan lagi di kasir suasana ramai dan perlu perhatian untuk mendapatkan parkir dan tempat duduk', 'pakai kartu kredit bca tidak untung malah rugi besar']\n"
          ]
        }
      ],
      "source": [
        "data = []\n",
        "for i in range(len(data_words)):\n",
        "    data.append(detokenize(data_words[i]))\n",
        "print(data[:5])"
      ]
    },
    {
      "cell_type": "code",
      "execution_count": null,
      "metadata": {
        "id": "Dr2xKAeYDgYv"
      },
      "outputs": [],
      "source": [
        "data = np.array(data)"
      ]
    },
    {
      "cell_type": "markdown",
      "metadata": {
        "id": "LQlkr24SDgYw"
      },
      "source": [
        "## Label Encoding"
      ]
    },
    {
      "cell_type": "code",
      "execution_count": null,
      "metadata": {
        "id": "luZg9A65DgYw"
      },
      "outputs": [],
      "source": [
        "# Extract the labels from the dataframe and encode them\n",
        "labels = np.array(df['value'])\n",
        "y = []\n",
        "for i in range(len(labels)):\n",
        "    if labels[i] == 'neutral':\n",
        "        y.append(0)\n",
        "    if labels[i] == 'negative':\n",
        "        y.append(1)\n",
        "    if labels[i] == 'positive':\n",
        "        y.append(2)\n",
        "y = np.array(y)\n",
        "labels = tf.keras.utils.to_categorical(y, 3, dtype=\"float32\")\n",
        "del y"
      ]
    },
    {
      "cell_type": "markdown",
      "metadata": {
        "id": "IA-OXJgWDgYx"
      },
      "source": [
        "## Data sequencing and splitting"
      ]
    },
    {
      "cell_type": "code",
      "execution_count": null,
      "metadata": {
        "id": "y2tknyg9DgYy"
      },
      "outputs": [],
      "source": [
        "from keras.models import Sequential\n",
        "from keras import layers\n",
        "from keras.optimizers import RMSprop,Adam\n",
        "from keras.preprocessing.text import Tokenizer\n",
        "from keras.utils import pad_sequences\n",
        "from keras import regularizers\n",
        "from keras import backend as K\n",
        "from keras.callbacks import ModelCheckpoint\n"
      ]
    },
    {
      "cell_type": "code",
      "execution_count": null,
      "metadata": {
        "id": "YLOprad2DgYz",
        "outputId": "429d4405-2206-405b-bcd9-3153b544c3d0",
        "colab": {
          "base_uri": "https://localhost:8080/"
        }
      },
      "outputs": [
        {
          "output_type": "stream",
          "name": "stdout",
          "text": [
            "[[   0    0    0 ...   14    8    8]\n",
            " [   0    0    0 ...   51  212   57]\n",
            " [   0    0    0 ... 1846  487  460]\n",
            " ...\n",
            " [   0    0    0 ...    2  674 4869]\n",
            " [   0    0    0 ... 2916   32   11]\n",
            " [   0    0    0 ...   13    1   32]]\n"
          ]
        }
      ],
      "source": [
        "# Tokenization and Padding\n",
        "max_words = 5000\n",
        "max_len = 200\n",
        "\n",
        "tokenizer = Tokenizer(num_words=max_words)\n",
        "tokenizer.fit_on_texts(data)\n",
        "sequences = tokenizer.texts_to_sequences(data)\n",
        "tweets = pad_sequences(sequences, maxlen=max_len)\n",
        "\n",
        "print(tweets) # Displaying the tokenized and padded sequences"
      ]
    },
    {
      "cell_type": "code",
      "execution_count": null,
      "metadata": {
        "id": "0fASxZbpDgY0",
        "outputId": "53bf201c-0743-4fa3-a305-80d864c2eb7c",
        "colab": {
          "base_uri": "https://localhost:8080/"
        }
      },
      "outputs": [
        {
          "output_type": "stream",
          "name": "stdout",
          "text": [
            "[[0. 0. 1.]\n",
            " [0. 0. 1.]\n",
            " [0. 1. 0.]\n",
            " ...\n",
            " [1. 0. 0.]\n",
            " [0. 1. 0.]\n",
            " [0. 0. 1.]]\n"
          ]
        }
      ],
      "source": [
        "print(labels)  # Displaying the label data"
      ]
    },
    {
      "cell_type": "code",
      "execution_count": null,
      "metadata": {
        "id": "DyXhE6gcDgY1",
        "outputId": "4e1547f2-99c1-4a47-9895-e8b44b064fc3",
        "colab": {
          "base_uri": "https://localhost:8080/"
        }
      },
      "outputs": [
        {
          "output_type": "stream",
          "name": "stdout",
          "text": [
            "8248 2750 8248 2750\n"
          ]
        }
      ],
      "source": [
        "#Splitting the data into training and testing sets\n",
        "X_train, X_test, y_train, y_test = train_test_split(tweets,labels, random_state=0)\n",
        "print (len(X_train),len(X_test),len(y_train),len(y_test))"
      ]
    },
    {
      "cell_type": "markdown",
      "metadata": {
        "id": "4bDwd_INDgY2"
      },
      "source": [
        "## Model Architecture"
      ]
    },
    {
      "cell_type": "code",
      "execution_count": null,
      "metadata": {
        "id": "_ywyTEXhDgY3",
        "outputId": "3f07e97c-5b55-4939-c4ac-9ecef047a7e5",
        "colab": {
          "base_uri": "https://localhost:8080/"
        }
      },
      "outputs": [
        {
          "output_type": "stream",
          "name": "stderr",
          "text": [
            "WARNING:tensorflow:`period` argument is deprecated. Please use `save_freq` to specify the frequency in number of batches seen.\n"
          ]
        },
        {
          "output_type": "stream",
          "name": "stdout",
          "text": [
            "Epoch 1/5\n",
            "257/258 [============================>.] - ETA: 0s - loss: 0.9364 - accuracy: 0.5714\n",
            "Epoch 1: val_accuracy improved from -inf to 0.61127, saving model to best_model0.hdf5\n",
            "258/258 [==============================] - 18s 60ms/step - loss: 0.9359 - accuracy: 0.5719 - val_loss: 0.8741 - val_accuracy: 0.6113\n",
            "Epoch 2/5\n",
            "258/258 [==============================] - ETA: 0s - loss: 0.7374 - accuracy: 0.6777\n",
            "Epoch 2: val_accuracy improved from 0.61127 to 0.75964, saving model to best_model0.hdf5\n",
            "258/258 [==============================] - 14s 53ms/step - loss: 0.7374 - accuracy: 0.6777 - val_loss: 0.5720 - val_accuracy: 0.7596\n",
            "Epoch 3/5\n",
            "258/258 [==============================] - ETA: 0s - loss: 0.4917 - accuracy: 0.7903\n",
            "Epoch 3: val_accuracy improved from 0.75964 to 0.78473, saving model to best_model0.hdf5\n",
            "258/258 [==============================] - 14s 53ms/step - loss: 0.4917 - accuracy: 0.7903 - val_loss: 0.5230 - val_accuracy: 0.7847\n",
            "Epoch 4/5\n",
            "258/258 [==============================] - ETA: 0s - loss: 0.3961 - accuracy: 0.8366\n",
            "Epoch 4: val_accuracy improved from 0.78473 to 0.79418, saving model to best_model0.hdf5\n",
            "258/258 [==============================] - 22s 85ms/step - loss: 0.3961 - accuracy: 0.8366 - val_loss: 0.4889 - val_accuracy: 0.7942\n",
            "Epoch 5/5\n",
            "258/258 [==============================] - ETA: 0s - loss: 0.3133 - accuracy: 0.8820\n",
            "Epoch 5: val_accuracy improved from 0.79418 to 0.82182, saving model to best_model0.hdf5\n",
            "258/258 [==============================] - 14s 56ms/step - loss: 0.3133 - accuracy: 0.8820 - val_loss: 0.4657 - val_accuracy: 0.8218\n"
          ]
        }
      ],
      "source": [
        "model0 = Sequential()\n",
        "model0.add(layers.Embedding(max_words, 15))\n",
        "model0.add(layers.SimpleRNN(15))\n",
        "model0.add(layers.Dense(3,activation='softmax'))\n",
        "\n",
        "model0.compile(optimizer='rmsprop',\n",
        "               loss='categorical_crossentropy',\n",
        "               metrics=['accuracy'])\n",
        "\n",
        "#Implementing model checkpoins to save the best metric and do not lose it on training.\n",
        "checkpoint0 = ModelCheckpoint(\"best_model0.hdf5\", monitor='val_accuracy', \n",
        "                              verbose=1,save_best_only=True, mode='auto',\n",
        "                              period=1,save_weights_only=False)\n",
        "\n",
        "history = model0.fit(X_train, y_train, epochs=5,\n",
        "                     validation_data=(X_test, y_test),\n",
        "                     callbacks=[checkpoint0])"
      ]
    },
    {
      "cell_type": "markdown",
      "metadata": {
        "id": "mMA0301hDgY3"
      },
      "source": [
        "## Model Validation"
      ]
    },
    {
      "cell_type": "code",
      "execution_count": null,
      "metadata": {
        "id": "a_H14lmyDgY4"
      },
      "outputs": [],
      "source": [
        "best_model = keras.models.load_model(\"best_model0.hdf5\")"
      ]
    },
    {
      "cell_type": "code",
      "execution_count": null,
      "metadata": {
        "id": "JALxsdR1DgY4",
        "outputId": "ee64a04b-ec24-408a-b036-469880e769e6",
        "colab": {
          "base_uri": "https://localhost:8080/"
        }
      },
      "outputs": [
        {
          "output_type": "stream",
          "name": "stdout",
          "text": [
            "86/86 - 1s - loss: 0.4657 - accuracy: 0.8218 - 1s/epoch - 13ms/step\n",
            "Model accuracy:  0.8218181729316711\n"
          ]
        }
      ],
      "source": [
        "test_loss, test_acc = best_model.evaluate(X_test, y_test, verbose=2)\n",
        "print('Model accuracy: ',test_acc)"
      ]
    },
    {
      "cell_type": "code",
      "execution_count": null,
      "metadata": {
        "id": "n8gxPohhDgY5",
        "outputId": "4f9fa554-d326-4c3a-ff2a-6cf9a5de3a97",
        "colab": {
          "base_uri": "https://localhost:8080/"
        }
      },
      "outputs": [
        {
          "output_type": "stream",
          "name": "stdout",
          "text": [
            "86/86 [==============================] - 1s 11ms/step\n"
          ]
        }
      ],
      "source": [
        "predictions = best_model.predict(X_test) # Predicting on test data"
      ]
    },
    {
      "cell_type": "markdown",
      "source": [
        "## Training and Validation Performance"
      ],
      "metadata": {
        "id": "xJ50yTmgrQqY"
      }
    },
    {
      "cell_type": "code",
      "source": [
        "def plot_loss_acc(history):\n",
        "  \n",
        "  acc = history.history['accuracy']\n",
        "  val_acc = history.history['val_accuracy']\n",
        "  loss = history.history['loss']\n",
        "  val_loss = history.history['val_loss']\n",
        "\n",
        "  epochs = range(len(acc))\n",
        "\n",
        "  plt.figure(figsize=(8, 8))\n",
        "  plt.subplot(1, 2, 1)\n",
        "  plt.plot(epochs, acc, label='Training accuracy')\n",
        "  plt.plot(epochs, val_acc, label='Validation accuracy')\n",
        "  plt.legend(loc='upper left')\n",
        "  plt.title('Training and validation accuracy')\n",
        "\n",
        "  plt.figure(figsize=(8, 8))\n",
        "  plt.subplot(1, 2, 2)\n",
        "  plt.plot(epochs, loss, label='Training Loss')\n",
        "  plt.plot(epochs, val_loss, label='Validation Loss')\n",
        "  plt.legend(loc='lower right')\n",
        "  plt.title('Training and validation loss')\n",
        " \n",
        "  plt.show()\n",
        "# Plot training results\n",
        "plot_loss_acc(history)\n",
        "     "
      ],
      "metadata": {
        "colab": {
          "base_uri": "https://localhost:8080/",
          "height": 1000
        },
        "id": "3-kEJSWFqkgR",
        "outputId": "23bc73ae-2b7a-45ee-9170-d7376737b03a"
      },
      "execution_count": null,
      "outputs": [
        {
          "output_type": "display_data",
          "data": {
            "text/plain": [
              "<Figure size 800x800 with 1 Axes>"
            ],
            "image/png": "[encoded data removed]"
          },
          "metadata": {}
        },
        {
          "output_type": "display_data",
          "data": {
            "text/plain": [
              "<Figure size 800x800 with 1 Axes>"
            ],
            "image/png": "[encoded data removed]"
          },
          "metadata": {}
        }
      ]
    },
    {
      "cell_type": "markdown",
      "source": [
        "## Creating the confusion matrix"
      ],
      "metadata": {
        "id": "SEgqpxAcd1DS"
      }
    },
    {
      "cell_type": "code",
      "execution_count": null,
      "metadata": {
        "id": "AkqEWTk5DgY6"
      },
      "outputs": [],
      "source": [
        "from sklearn.metrics import confusion_matrix\n",
        "matrix = confusion_matrix(y_test.argmax(axis=1),\n",
        "                          np.around(predictions, decimals=0).argmax(axis=1))"
      ]
    },
    {
      "cell_type": "code",
      "execution_count": null,
      "metadata": {
        "id": "NEq3GNpdDgY7",
        "outputId": "51053292-a382-4d38-fa42-e1bfd45576b4",
        "colab": {
          "base_uri": "https://localhost:8080/",
          "height": 1000
        }
      },
      "outputs": [
        {
          "output_type": "stream",
          "name": "stderr",
          "text": [
            "<ipython-input-39-2aaca2b8a402>:7: FutureWarning: Support for multi-dimensional indexing (e.g. `obj[:, None]`) is deprecated and will be removed in a future version.  Convert to a numpy array before indexing instead.\n",
            "  conf_matrix = conf_matrix.astype('float') / conf_matrix.sum(axis=1)[:, np.newaxis]\n"
          ]
        },
        {
          "output_type": "execute_result",
          "data": {
            "text/plain": [
              "<Axes: >"
            ]
          },
          "metadata": {},
          "execution_count": 39
        },
        {
          "output_type": "display_data",
          "data": {
            "text/plain": [
              "<Figure size 1500x1500 with 2 Axes>"
            ],
            "image/png": "[encoded data removed]"
          },
          "metadata": {}
        }
      ],
      "source": [
        "# Plotting the confusion matrix\n",
        "import seaborn as sns\n",
        "\n",
        "conf_matrix = pd.DataFrame(matrix, index = ['Neutral','Negative','Positive'],\n",
        "                           columns = ['Neutral','Negative','Positive'])\n",
        "\n",
        "conf_matrix = conf_matrix.astype('float') / conf_matrix.sum(axis=1)[:, np.newaxis]\n",
        "plt.figure(figsize = (15,15))\n",
        "sns.heatmap(conf_matrix, annot=True, annot_kws={\"size\": 15})"
      ]
    },
    {
      "cell_type": "code",
      "execution_count": null,
      "metadata": {
        "id": "zdmbKvjGDgY8",
        "outputId": "364aec83-d9c5-4a3f-e913-1da2a19cf177",
        "colab": {
          "base_uri": "https://localhost:8080/",
          "height": 53
        }
      },
      "outputs": [
        {
          "output_type": "stream",
          "name": "stdout",
          "text": [
            "1/1 [==============================] - 0s 47ms/step\n"
          ]
        },
        {
          "output_type": "execute_result",
          "data": {
            "text/plain": [
              "'Neutral'"
            ],
            "application/vnd.google.colaboratory.intrinsic+json": {
              "type": "string"
            }
          },
          "metadata": {},
          "execution_count": 28
        }
      ],
      "source": [
        "# Predicting sentiment for a test sample\n",
        "sentiment = ['Neutral','Negative','Positive']\n",
        "sequence = tokenizer.texts_to_sequences(['Buku itu berwarna biru'])\n",
        "\n",
        "test = pad_sequences(sequence, maxlen=max_len)\n",
        "sentiment[np.around(best_model.predict(test), \n",
        "                    decimals=0).argmax(axis=1)[0]] "
      ]
    },
    {
      "cell_type": "markdown",
      "source": [
        "\n",
        "## Conversion and Downloading of TFLite Model\n",
        "\n"
      ],
      "metadata": {
        "id": "T-NXnkqde9Sc"
      }
    },
    {
      "cell_type": "code",
      "source": [
        "import pathlib\n",
        "from google.colab import files\n",
        "\n",
        "export_dir = '/tmp/saved_model/'\n",
        "tf.saved_model.save(best_model, export_dir)\n",
        "\n",
        "converter = tf.lite.TFLiteConverter.from_saved_model(export_dir)\n",
        "converter.target_spec.supported_ops = [tf.lite.OpsSet.TFLITE_BUILTINS, tf.lite.OpsSet.SELECT_TF_OPS]\n",
        "converter._experimental_lower_tensor_list_ops = False\n",
        "\n",
        "tflite_model = converter.convert()\n",
        "\n",
        "tflite_model_file = pathlib.Path('/tmp/ml_model.tflite')\n",
        "tflite_model_file.write_bytes(tflite_model)\n",
        "\n",
        "files.download(tflite_model_file)"
      ],
      "metadata": {
        "colab": {
          "base_uri": "https://localhost:8080/",
          "height": 54
        },
        "id": "nkBSM_6xepB6",
        "outputId": "1d3390f9-f0a3-4469-e3ee-dabdad9628b6"
      },
      "execution_count": null,
      "outputs": [
        {
          "output_type": "stream",
          "name": "stderr",
          "text": [
            "WARNING:absl:Found untraced functions such as _update_step_xla while saving (showing 1 of 1). These functions will not be directly callable after loading.\n"
          ]
        },
        {
          "output_type": "display_data",
          "data": {
            "text/plain": [
              "<IPython.core.display.Javascript object>"
            ],
            "application/javascript": [
              "\n",
              "    async function download(id, filename, size) {\n",
              "      if (!google.colab.kernel.accessAllowed) {\n",
              "        return;\n",
              "      }\n",
              "      const div = document.createElement('div');\n",
              "      const label = document.createElement('label');\n",
              "      label.textContent = `Downloading \"${filename}\": `;\n",
              "      div.appendChild(label);\n",
              "      const progress = document.createElement('progress');\n",
              "      progress.max = size;\n",
              "      div.appendChild(progress);\n",
              "      document.body.appendChild(div);\n",
              "\n",
              "      const buffers = [];\n",
              "      let downloaded = 0;\n",
              "\n",
              "      const channel = await google.colab.kernel.comms.open(id);\n",
              "      // Send a message to notify the kernel that we're ready.\n",
              "      channel.send({})\n",
              "\n",
              "      for await (const message of channel.messages) {\n",
              "        // Send a message to notify the kernel that we're ready.\n",
              "        channel.send({})\n",
              "        if (message.buffers) {\n",
              "          for (const buffer of message.buffers) {\n",
              "            buffers.push(buffer);\n",
              "            downloaded += buffer.byteLength;\n",
              "            progress.value = downloaded;\n",
              "          }\n",
              "        }\n",
              "      }\n",
              "      const blob = new Blob(buffers, {type: 'application/binary'});\n",
              "      const a = document.createElement('a');\n",
              "      a.href = window.URL.createObjectURL(blob);\n",
              "      a.download = filename;\n",
              "      div.appendChild(a);\n",
              "      a.click();\n",
              "      div.remove();\n",
              "    }\n",
              "  "
            ]
          },
          "metadata": {}
        },
        {
          "output_type": "display_data",
          "data": {
            "text/plain": [
              "<IPython.core.display.Javascript object>"
            ],
            "application/javascript": [
              "download(\"download_d5dab1e9-8e1b-48e8-9802-223ecc38e058\", \"ml_model.tflite\", 311296)"
            ]
          },
          "metadata": {}
        }
      ]
    },
    {
      "cell_type": "code",
      "source": [],
      "metadata": {
        "id": "5hLh16nvotej"
      },
      "execution_count": null,
      "outputs": []
    }
  ],
  "metadata": {
    "kernelspec": {
      "display_name": "Python 3",
      "language": "python",
      "name": "python3"
    },
    "language_info": {
      "codemirror_mode": {
        "name": "ipython",
        "version": 3
      },
      "file_extension": ".py",
      "mimetype": "text/x-python",
      "name": "python",
      "nbconvert_exporter": "python",
      "pygments_lexer": "ipython3",
      "version": "3.10.6"
    },
    "orig_nbformat": 4,
    "vscode": {
      "interpreter": {
        "hash": "107d7b120a5b68773a87d4067e673630b35702e55ebab3138143d08b1c4d7cbc"
      }
    },
    "colab": {
      "provenance": []
    }
  },
  "nbformat": 4,
  "nbformat_minor": 0
}